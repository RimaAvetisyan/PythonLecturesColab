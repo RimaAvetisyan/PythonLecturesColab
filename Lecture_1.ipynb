{
 "cells": [
  {
   "cell_type": "markdown",
   "metadata": {
    "id": "YfT-ReScHKyc"
   },
   "source": [
    "# Introduction"
   ]
  },
  {
   "cell_type": "code",
   "execution_count": null,
   "metadata": {
    "id": "9HcDPA0yHT0h"
   },
   "outputs": [],
   "source": []
  },
  {
   "cell_type": "markdown",
   "metadata": {
    "id": "exreSiJzHKyl"
   },
   "source": [
    "* Multi-purpose (Web, GUI, Scripting, etc.)\n",
    "* Multi-paradigm: Object Oriented / Functional \n",
    "* Interpreted\n",
    "* Strongly typed and Dynamically typed\n",
    "* Focus on readability and productivity\n"
   ]
  },
  {
   "cell_type": "markdown",
   "metadata": {
    "id": "3Q_oAW-NHKyo"
   },
   "source": [
    "Python is a modern, robust, high level programming language. It is very easy to pick up even if you are completely new to programming.\n",
    "\n",
    "Be sure to install python 3.7 or 3.8 (not python 2 or 3.9)\n",
    "\n",
    "Python is formally an interpreted language. \n",
    "The interpreter receives a command, evaluates that command, and reports the result of the command.\n",
    "Programmer typically defines a series of commands in advance and saves those commands in a plain text file known as source code. For Python, source code is conventionally stored in a file named with the .py suffix \n",
    "On most operating systems, the Python interpreter can be started by typing python from the command linе\n"
   ]
  },
  {
   "cell_type": "markdown",
   "metadata": {
    "id": "83y3XfJJHKyp"
   },
   "source": [
    "## Launching IPython Notebook"
   ]
  },
  {
   "cell_type": "markdown",
   "metadata": {
    "id": "mgpoPEWrHKyq"
   },
   "source": [
    "From the terminal\n",
    "\n",
    "    jupyter notebook\n",
    "\n",
    "In Anaconda, Open the respective terminals and execute the above.\n",
    "\n",
    "On Windows: search for \"jupyter notebook\", it is installed once you install Anaconda."
   ]
  },
  {
   "cell_type": "markdown",
   "metadata": {
    "id": "VOS37y7CHKyr"
   },
   "source": [
    "# Python syntax "
   ]
  },
  {
   "cell_type": "markdown",
   "metadata": {
    "id": "6kfGOnPxHKys"
   },
   "source": [
    "###        Variables"
   ]
  },
  {
   "cell_type": "markdown",
   "metadata": {
    "id": "j_UbIp0wHKys"
   },
   "source": [
    "A name that is used to denote something or a value is called a variable. In python, variables can be declared and values can be assigned to it as follows.\n",
    "You don't need to specify the type, it is identified automatically, based on a given value."
   ]
  },
  {
   "cell_type": "code",
   "execution_count": 7,
   "metadata": {
    "id": "e-uMWqRAHKyt"
   },
   "outputs": [],
   "source": [
    "x = 5\n",
    "f = 5.0\n",
    "s = 'Hello'\n",
    "b = True"
   ]
  },
  {
   "cell_type": "code",
   "execution_count": 2,
   "metadata": {
    "colab": {
     "base_uri": "https://localhost:8080/"
    },
    "id": "cRANoj_7HKyv",
    "outputId": "1cd6c606-8122-4111-b24d-23350a0b3202"
   },
   "outputs": [
    {
     "name": "stdout",
     "output_type": "stream",
     "text": [
      "5\n"
     ]
    }
   ],
   "source": [
    "print(x)"
   ]
  },
  {
   "cell_type": "code",
   "execution_count": 9,
   "metadata": {
    "id": "_UV7YbX6wP8I"
   },
   "outputs": [],
   "source": [
    "x = 'World!'"
   ]
  },
  {
   "cell_type": "code",
   "execution_count": 14,
   "metadata": {
    "id": "SIwHImLcxLQj"
   },
   "outputs": [],
   "source": [
    "x = \"World!\""
   ]
  },
  {
   "cell_type": "code",
   "execution_count": 15,
   "metadata": {
    "colab": {
     "base_uri": "https://localhost:8080/"
    },
    "id": "jxjoVsGDH--J",
    "outputId": "05997695-ea10-4c16-a048-0109e8f69c72"
   },
   "outputs": [
    {
     "name": "stdout",
     "output_type": "stream",
     "text": [
      "HelloWorld!\n"
     ]
    }
   ],
   "source": [
    "print(s + x)"
   ]
  },
  {
   "cell_type": "markdown",
   "metadata": {
    "id": "HUccfwgSIFdS"
   },
   "source": [
    "Print ֆունկցիայի մասին"
   ]
  },
  {
   "cell_type": "code",
   "execution_count": 20,
   "metadata": {
    "colab": {
     "base_uri": "https://localhost:8080/"
    },
    "id": "aEnf3zhdHKy0",
    "outputId": "d941de63-5d06-4b84-bffb-33b8b7f45d79"
   },
   "outputs": [
    {
     "name": "stdout",
     "output_type": "stream",
     "text": [
      "World!/5.0/Hello/True/World/6.3/False\n",
      "World!, 5.0, Hello, True, World, 6.3, False\n"
     ]
    }
   ],
   "source": [
    "print(x, f, s, b, 'World', 6.3, False, sep=\"/\")\n",
    "print(x, f, s, b, 'World', 6.3, False, sep=\", \")"
   ]
  },
  {
   "cell_type": "code",
   "execution_count": 25,
   "metadata": {
    "colab": {
     "base_uri": "https://localhost:8080/"
    },
    "id": "DAHiEeEux061",
    "outputId": "ef42e4d9-eff7-4140-ae48-e2e1730eba02"
   },
   "outputs": [
    {
     "name": "stdout",
     "output_type": "stream",
     "text": [
      "World! 5.0 Hello True World 6.3 False\t\t\t\t\tWorld! 5.0 Hello True World 6.3 False\n"
     ]
    }
   ],
   "source": [
    "print(x, f, s, b, 'World', 6.3, False)\n",
    "print(x, f, s, b, 'World', 6.3, False)"
   ]
  },
  {
   "cell_type": "markdown",
   "metadata": {
    "id": "4LgH1BpsHKy1"
   },
   "source": [
    "Multiple variables can be assigned with the same value."
   ]
  },
  {
   "cell_type": "code",
   "execution_count": 32,
   "metadata": {
    "id": "xhMGWDrAHKy2"
   },
   "outputs": [],
   "source": [
    "x, y, z = 3, 4, 5"
   ]
  },
  {
   "cell_type": "code",
   "execution_count": 27,
   "metadata": {
    "colab": {
     "base_uri": "https://localhost:8080/"
    },
    "id": "ToOScyoEHKy2",
    "outputId": "1e123efc-387b-4cba-b380-989a609e9763"
   },
   "outputs": [
    {
     "name": "stdout",
     "output_type": "stream",
     "text": [
      "3\n"
     ]
    }
   ],
   "source": [
    "print(x)"
   ]
  },
  {
   "cell_type": "code",
   "execution_count": 29,
   "metadata": {
    "colab": {
     "base_uri": "https://localhost:8080/"
    },
    "id": "UnZG0TYry-mv",
    "outputId": "e38d7981-d80a-4579-c722-189fd2e8e2ab"
   },
   "outputs": [
    {
     "name": "stdout",
     "output_type": "stream",
     "text": [
      "4 5\n",
      "12\n"
     ]
    }
   ],
   "source": [
    "print(y, z)\n",
    "print(x + y + z)"
   ]
  },
  {
   "cell_type": "code",
   "execution_count": 34,
   "metadata": {
    "colab": {
     "base_uri": "https://localhost:8080/"
    },
    "id": "L3dhPUdszQXu",
    "outputId": "a6843fe6-bf7c-4b05-80c7-0a34771887ca"
   },
   "outputs": [
    {
     "name": "stdout",
     "output_type": "stream",
     "text": [
      "8\n"
     ]
    }
   ],
   "source": [
    "u = x + 5\n",
    "print(u)"
   ]
  },
  {
   "cell_type": "markdown",
   "metadata": {
    "id": "spDms86GHKy3"
   },
   "source": [
    "Multiple variables can be assigned values on one line."
   ]
  },
  {
   "cell_type": "code",
   "execution_count": 36,
   "metadata": {
    "colab": {
     "base_uri": "https://localhost:8080/"
    },
    "id": "JOGuSLKmzdgN",
    "outputId": "786238b1-dc0a-46cd-d0c1-cfffdc714b45"
   },
   "outputs": [
    {
     "name": "stdout",
     "output_type": "stream",
     "text": [
      "3 4 False\n"
     ]
    }
   ],
   "source": [
    "x, y, z = 3, '4', False\n",
    "print(x, y, z)"
   ]
  },
  {
   "cell_type": "code",
   "execution_count": null,
   "metadata": {
    "id": "DeTk2gFSHKy6"
   },
   "outputs": [],
   "source": [
    "#integer - ամբողջ թվեր\n",
    "#float - տասնորդական թվեր\n",
    "#boolean - True/False\n",
    "#String - Տեքստ"
   ]
  },
  {
   "cell_type": "markdown",
   "metadata": {
    "id": "lga7pmuMHKy7"
   },
   "source": [
    "# Operators"
   ]
  },
  {
   "cell_type": "markdown",
   "metadata": {
    "id": "YpS2mwn6HKy8"
   },
   "source": [
    "## Arithmetic Operators"
   ]
  },
  {
   "cell_type": "markdown",
   "metadata": {
    "id": "bBtkl8J0HKy8"
   },
   "source": [
    "| Symbol | Task Performed |\n",
    "|----|---|\n",
    "| +  | Addition |\n",
    "| -  | Subtraction |\n",
    "| /  | division |\n",
    "| %  | mod |\n",
    "| *  | multiplication |\n",
    "| //  | floor division |\n",
    "| **  | to the power of |"
   ]
  },
  {
   "cell_type": "code",
   "execution_count": 55,
   "metadata": {
    "colab": {
     "base_uri": "https://localhost:8080/"
    },
    "id": "NnyBlFeBKava",
    "outputId": "afcc4d8b-a92a-444a-a4ff-f6164aee5413"
   },
   "outputs": [
    {
     "name": "stdout",
     "output_type": "stream",
     "text": [
      "11\n",
      "-4\n",
      "0.5\n",
      "2\n",
      "1024\n",
      "==========\n",
      "1\n",
      "6\n",
      "HelloHelloHello\n"
     ]
    }
   ],
   "source": [
    "x, y, z = 1, 2, 3\n",
    "\n",
    "print(x + y + z + 5)\n",
    "print(x - y - z)\n",
    "print(x / y)\n",
    "print(x * y)\n",
    "print(y ** 10)\n",
    "\n",
    "print('=' * 10)\n",
    "print(10 % 9)\n",
    "print(20 // 3)\n",
    "\n",
    "\n",
    "print('Hello' * 3)"
   ]
  },
  {
   "cell_type": "markdown",
   "metadata": {
    "id": "J-VhDccOHKzG"
   },
   "source": [
    "## Relational Operations\n",
    "\n",
    "| Symbol | Task Performed |\n",
    "|----|---|\n",
    "| == | True, if it is equal |\n",
    "| !=  | True, if not equal to |\n",
    "| < | less than |\n",
    "| > | greater than |\n",
    "| <=  | less than or equal to |\n",
    "| >=  | greater than or equal to |"
   ]
  },
  {
   "cell_type": "code",
   "execution_count": 40,
   "metadata": {
    "colab": {
     "base_uri": "https://localhost:8080/"
    },
    "id": "zSf5tvjkHKzG",
    "outputId": "e3a7d870-dc4e-48b4-f80b-3015942cb66d"
   },
   "outputs": [
    {
     "name": "stdout",
     "output_type": "stream",
     "text": [
      "True\n",
      "False\n",
      "True\n",
      "False\n",
      "False\n",
      "True\n"
     ]
    }
   ],
   "source": [
    "x, y = 1, 2\n",
    "print(x < y)\n",
    "print(x > y)\n",
    "print(x <= y)\n",
    "print(x >= y)\n",
    "\n",
    "print(x == y)\n",
    "print(x != y)"
   ]
  },
  {
   "cell_type": "code",
   "execution_count": null,
   "metadata": {
    "id": "n5JSExaUHKzH"
   },
   "outputs": [],
   "source": []
  },
  {
   "cell_type": "code",
   "execution_count": null,
   "metadata": {
    "id": "w1naAWnjHKzH"
   },
   "outputs": [],
   "source": []
  },
  {
   "cell_type": "code",
   "execution_count": null,
   "metadata": {
    "id": "hDBuila9HKzI"
   },
   "outputs": [],
   "source": []
  },
  {
   "cell_type": "markdown",
   "metadata": {
    "id": "v2npiiZbHKzI"
   },
   "source": [
    "## Type convertion"
   ]
  },
  {
   "cell_type": "markdown",
   "metadata": {
    "id": "v1wTiL6YHKzI"
   },
   "source": [
    "**int( )** can also be used to get only the integer value of a float number or can be used to convert a number which is of type string to integer format. Similarly, the function **str( )** can be used to convert the integer back to string format"
   ]
  },
  {
   "cell_type": "code",
   "execution_count": 59,
   "metadata": {
    "colab": {
     "base_uri": "https://localhost:8080/"
    },
    "id": "n7NN8YPhHKzI",
    "outputId": "62c9f3ec-3cf2-48cd-d847-fb575e45cdf4"
   },
   "outputs": [
    {
     "name": "stdout",
     "output_type": "stream",
     "text": [
      "4\n",
      "4\n"
     ]
    }
   ],
   "source": [
    "print(str(4))\n",
    "print(int('4'))"
   ]
  },
  {
   "cell_type": "code",
   "execution_count": 61,
   "metadata": {
    "colab": {
     "base_uri": "https://localhost:8080/"
    },
    "id": "nCgE8SR9HKzJ",
    "outputId": "eb0cb82d-dcb6-4715-d756-73ea5a70a003"
   },
   "outputs": [
    {
     "data": {
      "text/plain": [
       "4"
      ]
     },
     "execution_count": 61,
     "metadata": {
      "tags": []
     },
     "output_type": "execute_result"
    }
   ],
   "source": [
    "int('4')"
   ]
  },
  {
   "cell_type": "code",
   "execution_count": 62,
   "metadata": {
    "id": "qhvQrom51glv"
   },
   "outputs": [],
   "source": [
    "string = str(4)\n",
    "integer = int('4')"
   ]
  },
  {
   "cell_type": "code",
   "execution_count": 63,
   "metadata": {
    "colab": {
     "base_uri": "https://localhost:8080/"
    },
    "id": "7yP1Thb-HKzJ",
    "outputId": "2ea8ea4f-108c-4b96-b4fe-06bfb92b3c8b"
   },
   "outputs": [
    {
     "name": "stdout",
     "output_type": "stream",
     "text": [
      "<class 'str'>\n"
     ]
    }
   ],
   "source": [
    "print(type(string))"
   ]
  },
  {
   "cell_type": "code",
   "execution_count": 64,
   "metadata": {
    "colab": {
     "base_uri": "https://localhost:8080/"
    },
    "id": "if0hC56fHKzK",
    "outputId": "c169fd45-80b9-4912-9686-6597c3edda23"
   },
   "outputs": [
    {
     "name": "stdout",
     "output_type": "stream",
     "text": [
      "<class 'int'>\n"
     ]
    }
   ],
   "source": [
    "print(type(integer))"
   ]
  },
  {
   "cell_type": "code",
   "execution_count": 68,
   "metadata": {
    "colab": {
     "base_uri": "https://localhost:8080/"
    },
    "id": "B7IaLXjo1y00",
    "outputId": "a9b0f139-a6f5-4499-fffe-1f5dd516de39"
   },
   "outputs": [
    {
     "name": "stdout",
     "output_type": "stream",
     "text": [
      "True\n",
      "False\n"
     ]
    }
   ],
   "source": [
    "print(bool(4))\n",
    "print(bool(0))"
   ]
  },
  {
   "cell_type": "code",
   "execution_count": 69,
   "metadata": {
    "colab": {
     "base_uri": "https://localhost:8080/"
    },
    "id": "E9PCnUsh1_xQ",
    "outputId": "66db46fa-0f4b-4a14-f5d4-0f5b5cddd616"
   },
   "outputs": [
    {
     "name": "stdout",
     "output_type": "stream",
     "text": [
      "5.0\n"
     ]
    }
   ],
   "source": [
    "print(float(5))"
   ]
  },
  {
   "cell_type": "code",
   "execution_count": 72,
   "metadata": {
    "colab": {
     "base_uri": "https://localhost:8080/"
    },
    "id": "zq-kfYpr2Gbs",
    "outputId": "c568b433-1467-4c2e-b5ff-4b5772c28165"
   },
   "outputs": [
    {
     "name": "stdout",
     "output_type": "stream",
     "text": [
      "5\n"
     ]
    }
   ],
   "source": [
    "print(int(5.6))"
   ]
  },
  {
   "cell_type": "markdown",
   "metadata": {
    "id": "eZ8m00hfHKzL"
   },
   "source": [
    "## Simplifying Arithmetic Operations"
   ]
  },
  {
   "cell_type": "markdown",
   "metadata": {
    "id": "cKzJeX-sHKzL"
   },
   "source": [
    "**round( )** function rounds the input value to a specified number of places or to the nearest integer. "
   ]
  },
  {
   "cell_type": "code",
   "execution_count": 80,
   "metadata": {
    "colab": {
     "base_uri": "https://localhost:8080/",
     "height": 35
    },
    "id": "6Hi7aI8lHKzL",
    "outputId": "85e96826-4a55-46d7-dd68-0b32217281de"
   },
   "outputs": [
    {
     "data": {
      "application/vnd.google.colaboratory.intrinsic+json": {
       "type": "string"
      },
      "text/plain": [
       "'A'"
      ]
     },
     "execution_count": 80,
     "metadata": {
      "tags": []
     },
     "output_type": "execute_result"
    }
   ],
   "source": [
    "chr(65)"
   ]
  },
  {
   "cell_type": "code",
   "execution_count": 81,
   "metadata": {
    "colab": {
     "base_uri": "https://localhost:8080/",
     "height": 35
    },
    "id": "XNBGcRmd2xTt",
    "outputId": "fc872605-1d94-4fbc-fd78-6b627d0853af"
   },
   "outputs": [
    {
     "data": {
      "application/vnd.google.colaboratory.intrinsic+json": {
       "type": "string"
      },
      "text/plain": [
       "'0xf'"
      ]
     },
     "execution_count": 81,
     "metadata": {
      "tags": []
     },
     "output_type": "execute_result"
    }
   ],
   "source": [
    "hex(15)"
   ]
  },
  {
   "cell_type": "code",
   "execution_count": 83,
   "metadata": {
    "colab": {
     "base_uri": "https://localhost:8080/"
    },
    "id": "0S5gAPbx2zII",
    "outputId": "833a6140-7422-47bf-8068-97fe2552699d"
   },
   "outputs": [
    {
     "data": {
      "text/plain": [
       "65"
      ]
     },
     "execution_count": 83,
     "metadata": {
      "tags": []
     },
     "output_type": "execute_result"
    }
   ],
   "source": [
    "ord('A')"
   ]
  },
  {
   "cell_type": "markdown",
   "metadata": {
    "id": "u_MTX-xWHKzM"
   },
   "source": [
    "**isinstance( )** returns True, if the first argument is an instance of that class. Multiple classes can also be checked at once, checks if the argument is an instance of any of the classes in that clause."
   ]
  },
  {
   "cell_type": "code",
   "execution_count": 88,
   "metadata": {
    "id": "y4ulYyRn3_sj"
   },
   "outputs": [],
   "source": [
    "x = 5\n",
    "x = str(x)"
   ]
  },
  {
   "cell_type": "code",
   "execution_count": 89,
   "metadata": {
    "colab": {
     "base_uri": "https://localhost:8080/"
    },
    "id": "THBtwwEHHKzN",
    "outputId": "df8054a5-b285-442c-8155-1f6cf057e1fc"
   },
   "outputs": [
    {
     "data": {
      "text/plain": [
       "True"
      ]
     },
     "execution_count": 89,
     "metadata": {
      "tags": []
     },
     "output_type": "execute_result"
    }
   ],
   "source": [
    "isinstance(5, int)\n",
    "isinstance(str(5), str)"
   ]
  },
  {
   "cell_type": "markdown",
   "metadata": {
    "id": "2oAJbyvjHKzO"
   },
   "source": [
    "**pow(x,y)** can be used to find the power $x^y$, if three values are indicated **pow(x,y, z)** the mod of the resulting value with the third specified number will be returned i.e. : ($x^y$ % z)."
   ]
  },
  {
   "cell_type": "code",
   "execution_count": 94,
   "metadata": {
    "colab": {
     "base_uri": "https://localhost:8080/"
    },
    "id": "N-jwMiqKHKzP",
    "outputId": "b1ced47f-96b3-4cea-aba1-cfe20665f2a4"
   },
   "outputs": [
    {
     "name": "stdout",
     "output_type": "stream",
     "text": [
      "81\n",
      "81\n"
     ]
    }
   ],
   "source": [
    "print(pow(3, 4))\n",
    "print(3 ** 4)"
   ]
  },
  {
   "cell_type": "code",
   "execution_count": null,
   "metadata": {
    "id": "t74KupsEHKzP"
   },
   "outputs": [],
   "source": [
    "# pow(3, 4, 4) -> 3 ** 4 % 4"
   ]
  },
  {
   "cell_type": "markdown",
   "metadata": {
    "id": "_zHegWsUHKzQ"
   },
   "source": [
    "## Strings\n",
    "Բացի թվերից, Python-ը կարող է նաև գործողություններ անել String-երի հետ: String-երը կարող են գրվել տարբեր չակերտների մեջ ```'...'```, ```\"...\"``` կամ ```\"\"\"...\"\"\"```: 3 դեպքում էլ ստացվում է նույն արդյունքը: ```\\``` -ը օգտագործվում է escape անելու համար: "
   ]
  },
  {
   "cell_type": "code",
   "execution_count": 100,
   "metadata": {
    "id": "vCAFbVRkHKzQ"
   },
   "outputs": [],
   "source": [
    "string_1 = \"Hello!\\\n",
    "World\\\n",
    "My name is\\\n",
    "Hrach\"\n",
    "\n",
    "string_2 = 'Hello!\\\n",
    "World\\\n",
    "My name is\\\n",
    "Hrach'\n",
    "\n",
    "string_3 = \"\"\"Hello!\n",
    "World\n",
    "My name is\n",
    "Hrach\"\"\""
   ]
  },
  {
   "cell_type": "code",
   "execution_count": 101,
   "metadata": {
    "colab": {
     "base_uri": "https://localhost:8080/"
    },
    "id": "2BNcphD5NPmH",
    "outputId": "fc081837-574e-4ceb-97b6-7be89b5b88c4"
   },
   "outputs": [
    {
     "name": "stdout",
     "output_type": "stream",
     "text": [
      "Hello!WorldMy name isHrach\n",
      "Hello!WorldMy name isHrach\n",
      "Hello!\n",
      "World\n",
      "My name is\n",
      "Hrach\n"
     ]
    }
   ],
   "source": [
    "print(string_1)\n",
    "print(string_2)\n",
    "print(string_3)"
   ]
  },
  {
   "cell_type": "code",
   "execution_count": 103,
   "metadata": {
    "colab": {
     "base_uri": "https://localhost:8080/"
    },
    "id": "ZwxDyyZw5oJo",
    "outputId": "19019603-53e7-4a06-b6b8-8ca15440411b"
   },
   "outputs": [
    {
     "name": "stdout",
     "output_type": "stream",
     "text": [
      "My name's Hrach\n"
     ]
    }
   ],
   "source": [
    "string = \"My name's Hrach\"\n",
    "print(string)"
   ]
  },
  {
   "cell_type": "code",
   "execution_count": 104,
   "metadata": {
    "colab": {
     "base_uri": "https://localhost:8080/"
    },
    "id": "7Y6V4tyi507g",
    "outputId": "5999f704-bbb9-46d0-b1e0-4e1bdb2ea3e0"
   },
   "outputs": [
    {
     "name": "stdout",
     "output_type": "stream",
     "text": [
      "My name\"s Hrach\n"
     ]
    }
   ],
   "source": [
    "string = 'My name\"s Hrach'\n",
    "print(string)"
   ]
  },
  {
   "cell_type": "markdown",
   "metadata": {
    "id": "V11EPN9YHKzR"
   },
   "source": [
    "### Interactive interpreter-ի մեջ հատուկ նշանակության արտահայտությունները կարող են escape արվել ```\\```-ի միջոցով: Բայց այս գործողությունը կարող է որոշ չափով փոփոխել տեքստը ու անհարմարություններ պատճառել: Դրա փոխարեն կարելի է օգտագործել ```r``` առաջին չակերտից առաջ:"
   ]
  },
  {
   "cell_type": "markdown",
   "metadata": {
    "id": "vm3mk_PvHKzR"
   },
   "source": [
    "### Օրինակ ```\\n``` նշանակում է նոր տող անցում, իսկ ```\\b```՝ backspace"
   ]
  },
  {
   "cell_type": "code",
   "execution_count": 105,
   "metadata": {
    "colab": {
     "base_uri": "https://localhost:8080/"
    },
    "id": "-jX88zk1HKzR",
    "outputId": "774a8ccd-1a21-4b46-96fb-b8b7d4fb8413"
   },
   "outputs": [
    {
     "name": "stdout",
     "output_type": "stream",
     "text": [
      "My name's Hrach\n"
     ]
    }
   ],
   "source": [
    "string = 'My name\\'s Hrach'\n",
    "print(string)"
   ]
  },
  {
   "cell_type": "code",
   "execution_count": 120,
   "metadata": {
    "id": "Fcij-YXS6_9Q"
   },
   "outputs": [],
   "source": [
    "string = 'My name is \\n Hrach'"
   ]
  },
  {
   "cell_type": "code",
   "execution_count": 121,
   "metadata": {
    "colab": {
     "base_uri": "https://localhost:8080/"
    },
    "id": "ns2LG513HKzS",
    "outputId": "e8eb990a-02cb-42b0-9b51-6f43cf0e20e6"
   },
   "outputs": [
    {
     "name": "stdout",
     "output_type": "stream",
     "text": [
      "My name is \n",
      " Hrach\n"
     ]
    }
   ],
   "source": [
    "print(string)"
   ]
  },
  {
   "cell_type": "code",
   "execution_count": 123,
   "metadata": {
    "colab": {
     "base_uri": "https://localhost:8080/"
    },
    "id": "fdoF76UpHKzT",
    "outputId": "00e16293-31fa-4aec-c36d-888b1d16a2c4"
   },
   "outputs": [
    {
     "name": "stdout",
     "output_type": "stream",
     "text": [
      "My name is\\b Hrach\n"
     ]
    }
   ],
   "source": [
    "print('My name is\\\\b Hrach')"
   ]
  },
  {
   "cell_type": "code",
   "execution_count": 125,
   "metadata": {
    "colab": {
     "base_uri": "https://localhost:8080/"
    },
    "id": "5csoD1t8HKzT",
    "outputId": "ceae18b8-b02e-4a39-fd30-d157cc531694"
   },
   "outputs": [
    {
     "name": "stdout",
     "output_type": "stream",
     "text": [
      "My name is\\b \\n \\tHrach\n"
     ]
    }
   ],
   "source": [
    "print(r'My name is\\b \\n \\tHrach') # 'r' for raw"
   ]
  },
  {
   "cell_type": "code",
   "execution_count": null,
   "metadata": {
    "id": "XSMTQP4CHKzU"
   },
   "outputs": [],
   "source": []
  },
  {
   "cell_type": "markdown",
   "metadata": {
    "id": "Ajnr2Mu3HKzU"
   },
   "source": [
    "### String-երը կարող են մի քանի տող զբաղեցնել, դրա համար օգտագործում ենք ```\"\"\"...\"\"\"``` կամ ```'''...'''```: Նոր տողի անցումը կատարվում է ավտոմատ, եթե ուզում ենք դրանից խուսափել տողի վերջում օգտագործում ենք ```\\```: "
   ]
  },
  {
   "cell_type": "code",
   "execution_count": 129,
   "metadata": {
    "id": "YiJt6tO_HKzU"
   },
   "outputs": [],
   "source": [
    "\"\"\"\n",
    "Սա մեկնաբանություն է\n",
    "\"\"\"\n",
    "'''\n",
    "Սա նույնպես\n",
    "'''\n",
    "# Սա չի կարդացվի\n",
    "# Իքսը նշանակենք հինգ\n",
    "x = 5\n",
    "y = 4\n",
    "\n"
   ]
  },
  {
   "cell_type": "code",
   "execution_count": null,
   "metadata": {
    "id": "c412WED7HKzV"
   },
   "outputs": [],
   "source": []
  },
  {
   "cell_type": "markdown",
   "metadata": {
    "id": "r82gT29WHKzV"
   },
   "source": [
    "### 2 String կարող ենք միացնել օգտագործելով ```+```"
   ]
  },
  {
   "cell_type": "code",
   "execution_count": 130,
   "metadata": {
    "id": "6X64H5qiHKzW"
   },
   "outputs": [],
   "source": [
    "string_1 = 'Hello '\n",
    "string_2 = 'Everyone!'"
   ]
  },
  {
   "cell_type": "code",
   "execution_count": 142,
   "metadata": {
    "colab": {
     "base_uri": "https://localhost:8080/"
    },
    "id": "2SwBKivOHKzX",
    "outputId": "0f076d79-c968-40a1-f1d8-a090c64048e0"
   },
   "outputs": [
    {
     "name": "stdout",
     "output_type": "stream",
     "text": [
      "Hello Everyone!\n",
      "Hello Everyone! My name is Hrach!\n",
      "Hello  Everyone! My name is Hrach!\n"
     ]
    }
   ],
   "source": [
    "print(string_1 + string_2)\n",
    "print(string_1 + string_2 + ' My ' + 'name ' + 'is ' + 'Hrach!')\n",
    "print(string_1, string_2, 'My', 'name', 'is', 'Hrach!')"
   ]
  },
  {
   "cell_type": "code",
   "execution_count": 133,
   "metadata": {
    "colab": {
     "base_uri": "https://localhost:8080/",
     "height": 35
    },
    "id": "TDRMIPFQHKzX",
    "outputId": "b9dca7e5-5f58-49ae-f22a-8a2b19638cf8"
   },
   "outputs": [
    {
     "data": {
      "application/vnd.google.colaboratory.intrinsic+json": {
       "type": "string"
      },
      "text/plain": [
       "'This string and this string'"
      ]
     },
     "execution_count": 133,
     "metadata": {
      "tags": []
     },
     "output_type": "execute_result"
    }
   ],
   "source": []
  },
  {
   "cell_type": "code",
   "execution_count": 134,
   "metadata": {
    "colab": {
     "base_uri": "https://localhost:8080/",
     "height": 128
    },
    "id": "Js2fT4ZE8fb_",
    "outputId": "70e85026-7b20-4339-82b4-6f3cd4390d0c"
   },
   "outputs": [
    {
     "ename": "SyntaxError",
     "evalue": "ignored",
     "output_type": "error",
     "traceback": [
      "\u001b[0;36m  File \u001b[0;32m\"<ipython-input-134-552a2d4e9fe5>\"\u001b[0;36m, line \u001b[0;32m1\u001b[0m\n\u001b[0;31m    x'and this'\u001b[0m\n\u001b[0m              ^\u001b[0m\n\u001b[0;31mSyntaxError\u001b[0m\u001b[0;31m:\u001b[0m invalid syntax\n"
     ]
    }
   ],
   "source": []
  },
  {
   "cell_type": "markdown",
   "metadata": {
    "id": "hhCW8o3XHKzX"
   },
   "source": [
    "### String-ը կրկնելու համար կարող ենք օգտագործել ```*```"
   ]
  },
  {
   "cell_type": "code",
   "execution_count": 137,
   "metadata": {
    "colab": {
     "base_uri": "https://localhost:8080/",
     "height": 35
    },
    "id": "GU0m1b-LHKzY",
    "outputId": "b67a1aab-9109-4dc9-8e9a-2c16d699c25b"
   },
   "outputs": [
    {
     "data": {
      "application/vnd.google.colaboratory.intrinsic+json": {
       "type": "string"
      },
      "text/plain": [
       "'===================================================================================================='"
      ]
     },
     "execution_count": 137,
     "metadata": {
      "tags": []
     },
     "output_type": "execute_result"
    }
   ],
   "source": [
    "'=' * 100"
   ]
  },
  {
   "cell_type": "code",
   "execution_count": null,
   "metadata": {
    "id": "YsVi0i-iHKzY"
   },
   "outputs": [],
   "source": []
  },
  {
   "cell_type": "markdown",
   "metadata": {
    "id": "wemQNOXGHKzZ"
   },
   "source": [
    "### Եթե իրար կողքի ենք գրում 2 և ավելի String-եր, դրանք ավտոմատ միանում են:"
   ]
  },
  {
   "cell_type": "code",
   "execution_count": 143,
   "metadata": {
    "colab": {
     "base_uri": "https://localhost:8080/",
     "height": 35
    },
    "id": "Cn4UxE-ZHKza",
    "outputId": "d71a0395-8717-4581-87e7-c849c7eb0b2b"
   },
   "outputs": [
    {
     "data": {
      "application/vnd.google.colaboratory.intrinsic+json": {
       "type": "string"
      },
      "text/plain": [
       "'This string and this string'"
      ]
     },
     "execution_count": 143,
     "metadata": {
      "tags": []
     },
     "output_type": "execute_result"
    }
   ],
   "source": [
    "x = 'This string ''and this string'\n",
    "x"
   ]
  },
  {
   "cell_type": "code",
   "execution_count": null,
   "metadata": {
    "id": "5iVB_W4nHKza"
   },
   "outputs": [],
   "source": []
  },
  {
   "cell_type": "markdown",
   "metadata": {
    "id": "a7MREYDSHKzc"
   },
   "source": [
    "### Այս գործողությունն չի աշխատում փոփոխականների համար, նույնիսկ եթե դրանք String տիպի են:"
   ]
  },
  {
   "cell_type": "code",
   "execution_count": null,
   "metadata": {
    "id": "LVe58voQHKzc"
   },
   "outputs": [],
   "source": [
    "x'and this'"
   ]
  },
  {
   "cell_type": "markdown",
   "metadata": {
    "id": "Y3eUmvplHKzd"
   },
   "source": [
    "### Փոփոխականներ կամ փոփոխականներ ու String-եր միացնելու համար օգտագործում ենք ```+```:"
   ]
  },
  {
   "cell_type": "code",
   "execution_count": 145,
   "metadata": {
    "colab": {
     "base_uri": "https://localhost:8080/"
    },
    "id": "UAyaJO1JHKze",
    "outputId": "3f54bbbe-2b19-47b0-fd5d-cb17124f4cda"
   },
   "outputs": [
    {
     "name": "stdout",
     "output_type": "stream",
     "text": [
      "My ID is 1273617823\n"
     ]
    }
   ],
   "source": [
    "id = 1273617823\n",
    "\n",
    "\n",
    "print('My ID is ' + str(id))"
   ]
  },
  {
   "cell_type": "markdown",
   "metadata": {
    "id": "j9GMYBoqHKzf"
   },
   "source": [
    "### String-երի էլեմենտներին կարող ենք դիմել index-ով, String-ի մի մասը, նույնիսկ 1 նիշը նույնպես String տիպի է:"
   ]
  },
  {
   "cell_type": "code",
   "execution_count": 149,
   "metadata": {
    "colab": {
     "base_uri": "https://localhost:8080/",
     "height": 35
    },
    "id": "LlYlKDvHHKzg",
    "outputId": "ddbbe1ad-79ea-4f23-bff4-bed3b5cb2022"
   },
   "outputs": [
    {
     "data": {
      "application/vnd.google.colaboratory.intrinsic+json": {
       "type": "string"
      },
      "text/plain": [
       "'o'"
      ]
     },
     "execution_count": 149,
     "metadata": {
      "tags": []
     },
     "output_type": "execute_result"
    }
   ],
   "source": [
    "string = 'Something'\n",
    "string[0]\n",
    "string[1]"
   ]
  },
  {
   "cell_type": "code",
   "execution_count": 159,
   "metadata": {
    "colab": {
     "base_uri": "https://localhost:8080/"
    },
    "id": "zkobZQgMRNKk",
    "outputId": "1d354d8d-8d5a-49bb-ae9b-517354f7855c"
   },
   "outputs": [
    {
     "name": "stdout",
     "output_type": "stream",
     "text": [
      "Some\n",
      "Somethin\n"
     ]
    }
   ],
   "source": [
    "print(string[0:4])\n",
    "print(string[0:-1])"
   ]
  },
  {
   "cell_type": "code",
   "execution_count": 157,
   "metadata": {
    "colab": {
     "base_uri": "https://localhost:8080/",
     "height": 52
    },
    "id": "m2JIynWy-TGw",
    "outputId": "67d93d8d-2e27-4205-c606-4a4e79e5a078"
   },
   "outputs": [
    {
     "name": "stdout",
     "output_type": "stream",
     "text": [
      "Sei\n"
     ]
    },
    {
     "data": {
      "application/vnd.google.colaboratory.intrinsic+json": {
       "type": "string"
      },
      "text/plain": [
       "'Smti'"
      ]
     },
     "execution_count": 157,
     "metadata": {
      "tags": []
     },
     "output_type": "execute_result"
    }
   ],
   "source": [
    "print(string[0:-1:3])\n",
    "string[0:-1:2]"
   ]
  },
  {
   "cell_type": "code",
   "execution_count": 168,
   "metadata": {
    "colab": {
     "base_uri": "https://localhost:8080/",
     "height": 35
    },
    "id": "cL_wnn7Z_Mwc",
    "outputId": "da4b1114-acdc-4ac7-acc4-09a6c3a0f529"
   },
   "outputs": [
    {
     "data": {
      "application/vnd.google.colaboratory.intrinsic+json": {
       "type": "string"
      },
      "text/plain": [
       "'gnihtemoS'"
      ]
     },
     "execution_count": 168,
     "metadata": {
      "tags": []
     },
     "output_type": "execute_result"
    }
   ],
   "source": [
    "string[-1::-1]"
   ]
  },
  {
   "cell_type": "markdown",
   "metadata": {
    "id": "YOM_xpOpHKzh"
   },
   "source": [
    "### Index-ները կարող են նաև լինել բացասական, այդ դեպքում հաշվարկը սկսվում է String-ի վերջից:"
   ]
  },
  {
   "cell_type": "code",
   "execution_count": null,
   "metadata": {
    "id": "zLUv7ivaHKzh"
   },
   "outputs": [],
   "source": [
    "string[-2]"
   ]
  },
  {
   "cell_type": "code",
   "execution_count": 161,
   "metadata": {
    "colab": {
     "base_uri": "https://localhost:8080/",
     "height": 35
    },
    "id": "zmFd-1zNHKzh",
    "outputId": "a04d0456-efc7-405a-9b41-3ff13948792b"
   },
   "outputs": [
    {
     "data": {
      "application/vnd.google.colaboratory.intrinsic+json": {
       "type": "string"
      },
      "text/plain": [
       "'gnihtemo'"
      ]
     },
     "execution_count": 161,
     "metadata": {
      "tags": []
     },
     "output_type": "execute_result"
    }
   ],
   "source": [
    "string[-1:0:-1]"
   ]
  },
  {
   "cell_type": "code",
   "execution_count": null,
   "metadata": {
    "id": "u4wD6s5BHKzi"
   },
   "outputs": [],
   "source": []
  },
  {
   "cell_type": "markdown",
   "metadata": {
    "id": "tPJ9S8OkHKzi"
   },
   "source": [
    "### ```len()``` ֆունկցիան վերադարձնում է String-ի երկարությունը"
   ]
  },
  {
   "cell_type": "code",
   "execution_count": 177,
   "metadata": {
    "colab": {
     "base_uri": "https://localhost:8080/"
    },
    "id": "iKhXwpkuHKzj",
    "outputId": "8386c660-03c8-4a76-931c-8557e2aa7aad"
   },
   "outputs": [
    {
     "name": "stdout",
     "output_type": "stream",
     "text": [
      "Something\n",
      "Somethin\n"
     ]
    }
   ],
   "source": [
    "print(string[0:len(string)])\n",
    "print(string[0:-1])"
   ]
  },
  {
   "cell_type": "code",
   "execution_count": 178,
   "metadata": {
    "colab": {
     "base_uri": "https://localhost:8080/"
    },
    "id": "kCAe6pdWABU0",
    "outputId": "945359e4-2a5a-406b-cc1a-5e6d7f8831e3"
   },
   "outputs": [
    {
     "data": {
      "text/plain": [
       "16"
      ]
     },
     "execution_count": 178,
     "metadata": {
      "tags": []
     },
     "output_type": "execute_result"
    }
   ],
   "source": [
    "len('My name is Hrach')"
   ]
  },
  {
   "cell_type": "markdown",
   "metadata": {
    "id": "OaBr43LMHKzj"
   },
   "source": [
    "### Վերցնենք String-ից մի հատված"
   ]
  },
  {
   "cell_type": "code",
   "execution_count": null,
   "metadata": {
    "id": "gMOz-X69HKzk"
   },
   "outputs": [],
   "source": [
    "# string[start:stop:step]"
   ]
  },
  {
   "cell_type": "markdown",
   "metadata": {
    "id": "8o_FXEDEHKzm"
   },
   "source": [
    "### Եթե ուզում ենք վերցնել մի հատված, որը սկսվում է որոշակի տեղից ու շարունակվում մինչև String-ի վերջ:"
   ]
  },
  {
   "cell_type": "code",
   "execution_count": null,
   "metadata": {
    "id": "j-eT7L8oHKzo"
   },
   "outputs": [],
   "source": []
  },
  {
   "cell_type": "code",
   "execution_count": null,
   "metadata": {
    "id": "xaKQqL8BHKzp"
   },
   "outputs": [],
   "source": []
  },
  {
   "cell_type": "markdown",
   "metadata": {
    "id": "47L6eZvyHKzp"
   },
   "source": [
    "### Եթե ուզում ենք վերցնել մի հատված, որը սկսվում է String-ի սկզբից ու շարունակվում մինչև String-ի որոշակի index:"
   ]
  },
  {
   "cell_type": "code",
   "execution_count": null,
   "metadata": {
    "id": "50jiguEDHKzp"
   },
   "outputs": [],
   "source": []
  },
  {
   "cell_type": "code",
   "execution_count": null,
   "metadata": {
    "id": "Kn5hK823HKzq"
   },
   "outputs": [],
   "source": []
  },
  {
   "cell_type": "markdown",
   "metadata": {
    "id": "3puIcs1MHKzq"
   },
   "source": [
    "### Նաև կարող ենք սկսել String-ի վերջից:"
   ]
  },
  {
   "cell_type": "code",
   "execution_count": null,
   "metadata": {
    "id": "vzsCFsAwHKzr"
   },
   "outputs": [],
   "source": []
  },
  {
   "cell_type": "markdown",
   "metadata": {
    "id": "ppwZY_-PHKzr"
   },
   "source": [
    "### String-ը հակառակ շրջելու համար օգտագործվում է հետևյալ գրելաձևը ```[begin:end:step]```"
   ]
  },
  {
   "cell_type": "code",
   "execution_count": null,
   "metadata": {
    "id": "3Kpt0sU1HKzr"
   },
   "outputs": [],
   "source": []
  },
  {
   "cell_type": "code",
   "execution_count": null,
   "metadata": {
    "id": "F6uidQkxHKzs"
   },
   "outputs": [],
   "source": []
  },
  {
   "cell_type": "code",
   "execution_count": null,
   "metadata": {
    "id": "smhyhsc3HKzs"
   },
   "outputs": [],
   "source": []
  },
  {
   "cell_type": "code",
   "execution_count": null,
   "metadata": {
    "id": "xcteTkIOHKzt"
   },
   "outputs": [],
   "source": []
  },
  {
   "cell_type": "markdown",
   "metadata": {
    "id": "HCStb1iqHKzt"
   },
   "source": [
    "### Այս գրելաձևի միջոցով կարող ենք ստանալ պալինդրոմներ՝ այսինքն տեքստեր, որոնք նւոյնն են ձախից-աջ ու աջից-ձախ կարդալիս:"
   ]
  },
  {
   "cell_type": "code",
   "execution_count": 179,
   "metadata": {
    "id": "Ka2bPLXGHKzt"
   },
   "outputs": [],
   "source": [
    "string = 'abc'"
   ]
  },
  {
   "cell_type": "code",
   "execution_count": 180,
   "metadata": {
    "colab": {
     "base_uri": "https://localhost:8080/",
     "height": 35
    },
    "id": "o8cotl66HKzt",
    "outputId": "3c19d551-05ae-4b59-de58-91703a81fbbd"
   },
   "outputs": [
    {
     "data": {
      "application/vnd.google.colaboratory.intrinsic+json": {
       "type": "string"
      },
      "text/plain": [
       "'abccba'"
      ]
     },
     "execution_count": 180,
     "metadata": {
      "tags": []
     },
     "output_type": "execute_result"
    }
   ],
   "source": [
    "string + string[-1::-1]"
   ]
  },
  {
   "cell_type": "markdown",
   "metadata": {
    "id": "AhdPtM3UHKzu"
   },
   "source": [
    "### Կարող ենք հեշտությամբ տեքստը դարձնել մեծատառ՝ ```upper()``` ֆունկցիայի միջոցով ու փոքրատառ՝ օգտագործելով ```lower()``` ֆունկցիան:"
   ]
  },
  {
   "cell_type": "code",
   "execution_count": 182,
   "metadata": {
    "colab": {
     "base_uri": "https://localhost:8080/",
     "height": 35
    },
    "id": "TNpTWPpCHKzu",
    "outputId": "08505bdf-b50d-4963-a388-b17ec330b7d9"
   },
   "outputs": [
    {
     "data": {
      "application/vnd.google.colaboratory.intrinsic+json": {
       "type": "string"
      },
      "text/plain": [
       "'ABC'"
      ]
     },
     "execution_count": 182,
     "metadata": {
      "tags": []
     },
     "output_type": "execute_result"
    }
   ],
   "source": [
    "capitals = string.upper()\n",
    "capitals"
   ]
  },
  {
   "cell_type": "code",
   "execution_count": 183,
   "metadata": {
    "colab": {
     "base_uri": "https://localhost:8080/",
     "height": 35
    },
    "id": "B3r0p7FkTzb3",
    "outputId": "11a1970a-bae0-4dd6-e724-628c28c41b0d"
   },
   "outputs": [
    {
     "data": {
      "application/vnd.google.colaboratory.intrinsic+json": {
       "type": "string"
      },
      "text/plain": [
       "'abc'"
      ]
     },
     "execution_count": 183,
     "metadata": {
      "tags": []
     },
     "output_type": "execute_result"
    }
   ],
   "source": [
    "capitals.lower()"
   ]
  },
  {
   "cell_type": "code",
   "execution_count": null,
   "metadata": {
    "id": "KuY306B5HKzv"
   },
   "outputs": [],
   "source": []
  },
  {
   "cell_type": "code",
   "execution_count": null,
   "metadata": {
    "id": "R42RU0w0HKzv"
   },
   "outputs": [],
   "source": []
  },
  {
   "cell_type": "markdown",
   "metadata": {
    "id": "B0JnUgyoHKzv"
   },
   "source": [
    "### Եթե ուզում ենք փոխել String-ի մի հատված,  պետք է ստեղծենք նոր String"
   ]
  },
  {
   "cell_type": "code",
   "execution_count": 195,
   "metadata": {
    "colab": {
     "base_uri": "https://localhost:8080/",
     "height": 35
    },
    "id": "fw5lJGqjHKzw",
    "outputId": "48299ea6-8ff9-4fff-9e05-4c20d45bd789"
   },
   "outputs": [
    {
     "data": {
      "application/vnd.google.colaboratory.intrinsic+json": {
       "type": "string"
      },
      "text/plain": [
       "'Hello orld! Something'"
      ]
     },
     "execution_count": 195,
     "metadata": {
      "tags": []
     },
     "output_type": "execute_result"
    }
   ],
   "source": [
    "new_string = string[:6] + string[7:] + ' Something'\n",
    "new_string"
   ]
  },
  {
   "cell_type": "code",
   "execution_count": null,
   "metadata": {
    "id": "pUFVPcvOHKzw"
   },
   "outputs": [],
   "source": []
  },
  {
   "cell_type": "code",
   "execution_count": null,
   "metadata": {
    "id": "FUbG7DXaHKzw"
   },
   "outputs": [],
   "source": []
  },
  {
   "cell_type": "markdown",
   "metadata": {
    "id": "BIkGchEjHKzx"
   },
   "source": [
    "### Find and Replace"
   ]
  },
  {
   "cell_type": "markdown",
   "metadata": {
    "id": "_65qE0ZBHKzx"
   },
   "source": [
    "### ```find()``` method-ը գտնում է առաջին հատվածը որտեղ հանդիպել է մեր ցանկացած տեքստը ու վերադարձնում դրա սկզբին համապատասխանող index-ը:"
   ]
  },
  {
   "cell_type": "code",
   "execution_count": 192,
   "metadata": {
    "id": "N-VN6yJqBCfq"
   },
   "outputs": [],
   "source": [
    "string = 'Hello World!'"
   ]
  },
  {
   "cell_type": "code",
   "execution_count": 190,
   "metadata": {
    "colab": {
     "base_uri": "https://localhost:8080/"
    },
    "id": "Yh3r-9jQHKzy",
    "outputId": "cd1e7698-c9fa-4e51-ace6-f18929a47882"
   },
   "outputs": [
    {
     "data": {
      "text/plain": [
       "1"
      ]
     },
     "execution_count": 190,
     "metadata": {
      "tags": []
     },
     "output_type": "execute_result"
    }
   ],
   "source": [
    "string.find('b')"
   ]
  },
  {
   "cell_type": "markdown",
   "metadata": {
    "id": "cM-6b2VlHKzz"
   },
   "source": [
    "### ```replace()``` method-ը գտնում է մեր ցանկացած տեքստը ու այն փոխարինում մեր ցանկացած տեքստով: "
   ]
  },
  {
   "cell_type": "code",
   "execution_count": 199,
   "metadata": {
    "colab": {
     "base_uri": "https://localhost:8080/",
     "height": 35
    },
    "id": "JIYgCbrAHKzz",
    "outputId": "1e115605-e145-442b-e6ef-c544b866b447"
   },
   "outputs": [
    {
     "data": {
      "application/vnd.google.colaboratory.intrinsic+json": {
       "type": "string"
      },
      "text/plain": [
       "'Yesterday was a sunny day! It was very nice!'"
      ]
     },
     "execution_count": 199,
     "metadata": {
      "tags": []
     },
     "output_type": "execute_result"
    }
   ],
   "source": [
    "s1 = 'Today is a sunny day! It is very nice!'\n",
    "s1.replace('is', 'was').replace('Today', 'Yesterday')"
   ]
  },
  {
   "cell_type": "markdown",
   "metadata": {
    "id": "VKoAm1vgHKz0"
   },
   "source": [
    "### String Formatting"
   ]
  },
  {
   "cell_type": "markdown",
   "metadata": {
    "id": "6dY_W8mTHKz0"
   },
   "source": [
    "### Երբ ուզում ենք տեքստի տարբեր հատվածներում օգտագործել փոփոխականների արժեքներ:"
   ]
  },
  {
   "cell_type": "code",
   "execution_count": null,
   "metadata": {
    "id": "BeWW60eUCm4S"
   },
   "outputs": [],
   "source": [
    "s1 = 'Today %s a sunny day! It %s very nice!' "
   ]
  },
  {
   "cell_type": "code",
   "execution_count": 207,
   "metadata": {
    "colab": {
     "base_uri": "https://localhost:8080/"
    },
    "id": "mUhbtH3nHKz1",
    "outputId": "0da4b0b8-6ed2-4f2d-ec1f-516e834e8015"
   },
   "outputs": [
    {
     "name": "stdout",
     "output_type": "stream",
     "text": [
      "Today was a sunny day! It was very nice!\n"
     ]
    }
   ],
   "source": [
    "when = 'was'\n",
    "print('Today %s a sunny day! It %s very nice!'  % (when, when))"
   ]
  },
  {
   "cell_type": "code",
   "execution_count": null,
   "metadata": {
    "id": "rxI6Uh5eHKz2"
   },
   "outputs": [],
   "source": []
  },
  {
   "cell_type": "markdown",
   "metadata": {
    "id": "o7VT_hSFHKz3"
   },
   "source": [
    "#### %s - string\n",
    "#### %d - signed decimal integer (ամբողջ թիվ)\n",
    "#### %f - floating point number (տասնորդական թիվ)\n",
    "#### For other symbols - https://www.tutorialspoint.com/python/python_strings.htm"
   ]
  },
  {
   "cell_type": "markdown",
   "metadata": {
    "id": "s-9HiUbnHKz3"
   },
   "source": [
    "### Կամ կարող ենք փոփոխականներն օգտագործել հետևյալ ձևով:"
   ]
  },
  {
   "cell_type": "code",
   "execution_count": 208,
   "metadata": {
    "id": "TXyBBY7IHKz4"
   },
   "outputs": [],
   "source": [
    "s1 = 'Today %s a sunny day! It %s very nice!' "
   ]
  },
  {
   "cell_type": "code",
   "execution_count": 214,
   "metadata": {
    "colab": {
     "base_uri": "https://localhost:8080/"
    },
    "id": "HuIbw6U4HKz4",
    "outputId": "0e5fc685-2e83-42db-be10-3e75e38e124e"
   },
   "outputs": [
    {
     "name": "stdout",
     "output_type": "stream",
     "text": [
      "Today 5 a sunny day! It was very nice!\n",
      "Today was a sunny day! It was very nice!\n"
     ]
    }
   ],
   "source": [
    "when = 'was'\n",
    "\n",
    "print('Today {} a sunny day! It {} very nice!'.format(5, when))\n",
    "print('Today {0} a sunny day! It {0} very nice!'.format(when))"
   ]
  },
  {
   "cell_type": "code",
   "execution_count": 216,
   "metadata": {
    "colab": {
     "base_uri": "https://localhost:8080/"
    },
    "id": "cQk49YbmHKz4",
    "outputId": "697920a4-86b4-48cd-a082-54f9286b1472"
   },
   "outputs": [
    {
     "name": "stdout",
     "output_type": "stream",
     "text": [
      "Today was a sunny day! It was very nice! This year is 2021 which is a meh year 2021\n"
     ]
    }
   ],
   "source": [
    "year = 2021\n",
    "print('Today {0} a sunny day! It {0} very nice! This year is {1} which is a meh year {1}'.format(when, year))"
   ]
  },
  {
   "cell_type": "code",
   "execution_count": 219,
   "metadata": {
    "colab": {
     "base_uri": "https://localhost:8080/"
    },
    "id": "0i1BVzq9ya0g",
    "outputId": "0bdc3548-1ece-43ee-89f6-8cd3ed2c1171"
   },
   "outputs": [
    {
     "name": "stdout",
     "output_type": "stream",
     "text": [
      "Today was a sunny day! It was very nice! This year is 2021 which is a meh year 2021\n"
     ]
    }
   ],
   "source": [
    "print('Today ' + '{}'.format(when) + ' a sunny day! It {0} very nice! This year is {1} which is a meh year {1}'.format(when, year))"
   ]
  },
  {
   "cell_type": "markdown",
   "metadata": {
    "id": "24t4A23wD7GW"
   },
   "source": [
    "# Fstrings"
   ]
  },
  {
   "cell_type": "code",
   "execution_count": 220,
   "metadata": {
    "colab": {
     "base_uri": "https://localhost:8080/"
    },
    "id": "-sxVSGSCD8mv",
    "outputId": "f9203b96-90cd-469b-b4c7-e9def77d94f3"
   },
   "outputs": [
    {
     "name": "stdout",
     "output_type": "stream",
     "text": [
      "Today was a sunny day! It was very nice! This year is 2021 which is a meh year 2021\n"
     ]
    }
   ],
   "source": [
    "print(f'Today {when} a sunny day! It {when} very nice! This year is {year} which is a meh year {year}')"
   ]
  },
  {
   "cell_type": "markdown",
   "metadata": {
    "id": "rvX_R9m6HKz5"
   },
   "source": [
    "### Ցանկացած object, որը String տիպի չի, նույնպես կարող է օգտագործվել %s-ով, ինչը այն ավտոմատ String-ի կվերածի: "
   ]
  },
  {
   "cell_type": "code",
   "execution_count": null,
   "metadata": {
    "id": "5ZnGzQggHKz5"
   },
   "outputs": [],
   "source": []
  },
  {
   "cell_type": "markdown",
   "metadata": {
    "id": "37qbsTKmHKz5"
   },
   "source": [
    "### Երբ օգտագործում ենք երկրորդ մեթոդը, այս գործողությունը պետք է կատարենք ձեռքով, քանի որ հնարավոր չէ միացնել string ու ոչ String տիպի օբյեկտները:"
   ]
  },
  {
   "cell_type": "code",
   "execution_count": null,
   "metadata": {
    "id": "c4NAmsgEHKz5"
   },
   "outputs": [],
   "source": []
  },
  {
   "cell_type": "code",
   "execution_count": null,
   "metadata": {
    "id": "8TT6SzESHKz6"
   },
   "outputs": [],
   "source": []
  },
  {
   "cell_type": "code",
   "execution_count": null,
   "metadata": {
    "id": "kJu09vBRHKz7"
   },
   "outputs": [],
   "source": []
  },
  {
   "cell_type": "code",
   "execution_count": null,
   "metadata": {
    "id": "CVpP6r2rHKz7"
   },
   "outputs": [],
   "source": []
  },
  {
   "cell_type": "markdown",
   "metadata": {
    "id": "EdK66h38HKz7"
   },
   "source": [
    "### ```count()``` ֆունկցիան վերադարձնում է թե քանի անգամ է տրված արժեքը հանդիպել տեքստի մեջ: "
   ]
  },
  {
   "cell_type": "code",
   "execution_count": 225,
   "metadata": {
    "colab": {
     "base_uri": "https://localhost:8080/"
    },
    "id": "_lLbMkR-HKz8",
    "outputId": "aeb7a40c-410d-4487-d140-cff3af1f0ab5"
   },
   "outputs": [
    {
     "data": {
      "text/plain": [
       "1"
      ]
     },
     "execution_count": 225,
     "metadata": {
      "tags": []
     },
     "output_type": "execute_result"
    }
   ],
   "source": [
    "s1.count('Today')"
   ]
  },
  {
   "cell_type": "code",
   "execution_count": 224,
   "metadata": {
    "colab": {
     "base_uri": "https://localhost:8080/",
     "height": 35
    },
    "id": "t9zX8FmJHK0L",
    "outputId": "1b7a8ae5-a5eb-4d71-be5d-32f937351154"
   },
   "outputs": [
    {
     "data": {
      "application/vnd.google.colaboratory.intrinsic+json": {
       "type": "string"
      },
      "text/plain": [
       "'Today %s a sunny day! It %s very nice!'"
      ]
     },
     "execution_count": 224,
     "metadata": {
      "tags": []
     },
     "output_type": "execute_result"
    }
   ],
   "source": [
    "s1"
   ]
  },
  {
   "cell_type": "markdown",
   "metadata": {
    "id": "WREoMbMJHK0L"
   },
   "source": [
    "### String-երի բոլոր ֆունկցիաների ցուցակը՝ https://www.w3schools.com/python/python_ref_string.asp"
   ]
  },
  {
   "cell_type": "code",
   "execution_count": null,
   "metadata": {
    "id": "__D7tZVnNJEK"
   },
   "outputs": [],
   "source": []
  }
 ],
 "metadata": {
  "colab": {
   "collapsed_sections": [
    "V11EPN9YHKzR",
    "BIkGchEjHKzx",
    "VKoAm1vgHKz0",
    "o7VT_hSFHKz3",
    "s-9HiUbnHKz3",
    "rvX_R9m6HKz5",
    "37qbsTKmHKz5",
    "EdK66h38HKz7",
    "WREoMbMJHK0L"
   ],
   "name": "Lecture 1.ipynb",
   "provenance": []
  },
  "kernelspec": {
   "display_name": "Python 3",
   "language": "python",
   "name": "python3"
  },
  "language_info": {
   "codemirror_mode": {
    "name": "ipython",
    "version": 3
   },
   "file_extension": ".py",
   "mimetype": "text/x-python",
   "name": "python",
   "nbconvert_exporter": "python",
   "pygments_lexer": "ipython3",
   "version": "3.7.6"
  }
 },
 "nbformat": 4,
 "nbformat_minor": 1
}
